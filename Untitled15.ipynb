{
 "cells": [
  {
   "cell_type": "code",
   "execution_count": 3,
   "id": "d17b8d41",
   "metadata": {},
   "outputs": [
    {
     "name": "stdout",
     "output_type": "stream",
     "text": [
      "I love my cat\n",
      "I love my dog\n",
      "I love my rabbit\n",
      "I love my Cow\n"
     ]
    }
   ],
   "source": [
    "# Create an array with the given pet names\n",
    "pets = ['cat', 'dog', 'rabbit',\"Cow\"]\n",
    "\n",
    "# Iterate over each pet in the array and print a message\n",
    "for pet in pets:\n",
    "    print('I love my ' + pet)\n"
   ]
  },
  {
   "cell_type": "code",
   "execution_count": 4,
   "id": "e2358b4a",
   "metadata": {},
   "outputs": [
    {
     "name": "stdout",
     "output_type": "stream",
     "text": [
      "C:\\Users\\17472\\Untitled15.ipynb\n"
     ]
    }
   ],
   "source": [
    "import os\n",
    "notebook_path = os.path.abspath(\"Untitled15.ipynb\")\n",
    "print(notebook_path)\n"
   ]
  }
 ],
 "metadata": {
  "kernelspec": {
   "display_name": "Python 3 (ipykernel)",
   "language": "python",
   "name": "python3"
  },
  "language_info": {
   "codemirror_mode": {
    "name": "ipython",
    "version": 3
   },
   "file_extension": ".py",
   "mimetype": "text/x-python",
   "name": "python",
   "nbconvert_exporter": "python",
   "pygments_lexer": "ipython3",
   "version": "3.9.12"
  }
 },
 "nbformat": 4,
 "nbformat_minor": 5
}
